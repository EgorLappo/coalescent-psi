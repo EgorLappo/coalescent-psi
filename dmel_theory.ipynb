{
 "cells": [
  {
   "cell_type": "code",
   "execution_count": null,
   "metadata": {},
   "outputs": [],
   "source": [
    "import numpy as np"
   ]
  },
  {
   "cell_type": "markdown",
   "metadata": {},
   "source": [
    "\n",
    "### Li and Stephan (2006):\n",
    "Constant population sizes (effectively effective)\n",
    "\n",
    "```\n",
    "N_Africa_current = 8_603_000\n",
    "N_Europe = 1_075_000\n",
    "time = 158_000 (generations)\n",
    "European bottleneck: 2_200 for 3_400 (generations)\n",
    "(N_africa_ancestral = 1_720_600 change at time 600_000)\n",
    "```\n",
    "\n",
    "### Laurent et al. (2011):\n",
    "\n",
    "Times in years with 10 generations/year, so convert. Using the autosomal estimates\n",
    "\n",
    "```\n",
    "N_Africa_current = 3_134_891\n",
    "time = 128_430\n",
    "N_Europe_t = 32_128 \n",
    "N_Europe_current = 878_506\n",
    "```\n",
    "\n",
    "Using the X-estimates\n",
    "\n",
    "```\n",
    "N_Africa_current = 3_134_891\n",
    "time = 128_430\n",
    "N_Europe_t = 32_128 \n",
    "N_Europe_current = 878_506\n",
    "```\n",
    "\n",
    "### Duchen et al. (2013): \n",
    "\n",
    "Say that admixture between europe and africa produced american population (irrelevant). Important that there is no migration. They also use exponential growth, so I added this to the paper.\n",
    "\n",
    "```\n",
    "N_Africa_current = 4_975_360\n",
    "time = 10^5.29 = 194_984 generations\n",
    "N_Europe_t = 16_982\n",
    "N_Europe_current = 15_984_500\n",
    "```\n",
    "\n",
    "### Arguello et al. (2019):\n",
    "\n",
    "```\n",
    "N_Africa_current = 391_000\n",
    "time = 662_080 generations\n",
    "N_Europe_t = 35_400\n",
    "N_Europe_current = 473_000\n",
    "```\n"
   ]
  },
  {
   "cell_type": "markdown",
   "metadata": {},
   "source": [
    "## theoretical expressions"
   ]
  },
  {
   "cell_type": "code",
   "execution_count": null,
   "metadata": {},
   "outputs": [],
   "source": [
    "# li and stephan (2006)\n",
    "\n",
    "\n",
    "def epsi_bottleneck(t, tbot, nA, nAbot, nB):\n",
    "    a = (t - tbot) / 4 / nA\n",
    "    b = tbot / 4 / nAbot\n",
    "    c = t / 4 / nB\n",
    "    return np.tanh(a + b - c)\n",
    "\n",
    "\n",
    "def epsisq_bottleneck(t, tbot, nA, nAbot, nB):\n",
    "    x = np.exp((t - tbot) / 2 / nA) + np.exp(tbot / 2 / nAbot) * np.exp(t / 2 / nB)\n",
    "    return 1 - 1 / x\n",
    "\n",
    "\n",
    "def vpsi_bottleneck(t, tbot, nA, nAbot, nB):\n",
    "    return (\n",
    "        epsisq_bottleneck(t, tbot, nA, nAbot, nB)\n",
    "        - epsi_bottleneck(t, tbot, nA, nAbot, nB) ** 2\n",
    "    )"
   ]
  },
  {
   "cell_type": "code",
   "execution_count": 3,
   "metadata": {},
   "outputs": [
    {
     "data": {
      "text/plain": [
       "0.3950127313092098"
      ]
     },
     "execution_count": 3,
     "metadata": {},
     "output_type": "execute_result"
    }
   ],
   "source": [
    "epsi_bottleneck(158_000, 158_000 - 154_600, 1_075_000, 2200, 8_603_000)"
   ]
  },
  {
   "cell_type": "code",
   "execution_count": 4,
   "metadata": {},
   "outputs": [
    {
     "data": {
      "text/plain": [
       "0.5372351518618832"
      ]
     },
     "execution_count": 4,
     "metadata": {},
     "output_type": "execute_result"
    }
   ],
   "source": [
    "vpsi_bottleneck(158_000, 158_000 - 154_600, 1_075_000, 2200, 8_603_000)"
   ]
  },
  {
   "cell_type": "code",
   "execution_count": null,
   "metadata": {},
   "outputs": [],
   "source": [
    "def epsi_exp(t, nA0, nAt, nB):\n",
    "    r = -np.log(nAt / nA0) / t\n",
    "    tA = (np.exp(r * t) - 1) / r\n",
    "    a = tA / 4 / nA0\n",
    "    b = t / 4 / nB\n",
    "\n",
    "    return np.tanh(a - b)\n",
    "\n",
    "\n",
    "def epsisq_exp(t, nA0, nAt, nB):\n",
    "    r = -np.log(nAt / nA0) / t\n",
    "    tA = (np.exp(r * t) - 1) / r\n",
    "    x = np.exp(tA / 2 / nA0) + np.exp(t / 2 / nB)\n",
    "    return 1 - 1 / x\n",
    "\n",
    "\n",
    "def vpsi_exp(t, nA0, nAt, nB):\n",
    "    return epsisq_exp(t, nA0, nAt, nB) - epsi_exp(t, nA0, nAt, nB) ** 2"
   ]
  },
  {
   "cell_type": "code",
   "execution_count": 7,
   "metadata": {},
   "outputs": [
    {
     "data": {
      "text/plain": [
       "0.40427332450497255"
      ]
     },
     "execution_count": 7,
     "metadata": {},
     "output_type": "execute_result"
    }
   ],
   "source": [
    "# laurent et al. (2011), X\n",
    "epsi_exp(168_490, 1_632_505, 22_066, 4_786_360)"
   ]
  },
  {
   "cell_type": "code",
   "execution_count": 8,
   "metadata": {},
   "outputs": [
    {
     "data": {
      "text/plain": [
       "0.5438965821207069"
      ]
     },
     "execution_count": 8,
     "metadata": {},
     "output_type": "execute_result"
    }
   ],
   "source": [
    "vpsi_exp(168_490, 1_632_505, 22_066, 4_786_360)"
   ]
  },
  {
   "cell_type": "code",
   "execution_count": 20,
   "metadata": {},
   "outputs": [
    {
     "data": {
      "text/plain": [
       "0.2736182676559288"
      ]
     },
     "execution_count": 20,
     "metadata": {},
     "output_type": "execute_result"
    }
   ],
   "source": [
    "# laurent et al. (2011), autosomes\n",
    "\n",
    "\n",
    "def epsi_exp(t, nA0, nAt, nB):\n",
    "    r = -np.log(nAt / nA0) / t\n",
    "    tA = (np.exp(r * t) - 1) / r\n",
    "    a = tA / 4 / nA0\n",
    "    b = t / 4 / nB\n",
    "\n",
    "    return np.tanh(a - b)\n",
    "\n",
    "\n",
    "epsi_exp(128_430, 878_506, 32_128, 3_134_891)"
   ]
  },
  {
   "cell_type": "code",
   "execution_count": 21,
   "metadata": {},
   "outputs": [
    {
     "data": {
      "text/plain": [
       "0.5693060881777965"
      ]
     },
     "execution_count": 21,
     "metadata": {},
     "output_type": "execute_result"
    }
   ],
   "source": [
    "vpsi_exp(128_430, 878_506, 32_128, 3_134_891)"
   ]
  },
  {
   "cell_type": "code",
   "execution_count": 5,
   "metadata": {},
   "outputs": [
    {
     "data": {
      "text/plain": [
       "0.3875987696089481"
      ]
     },
     "execution_count": 5,
     "metadata": {},
     "output_type": "execute_result"
    }
   ],
   "source": [
    "# Duchen et al. (2013)\n",
    "\n",
    "epsi_exp(194_984, 15_984_500, 16_982, 4_975_360)"
   ]
  },
  {
   "cell_type": "code",
   "execution_count": 16,
   "metadata": {},
   "outputs": [
    {
     "data": {
      "text/plain": [
       "0.5495081659224442"
      ]
     },
     "execution_count": 16,
     "metadata": {},
     "output_type": "execute_result"
    }
   ],
   "source": [
    "vpsi_exp(194_984, 15_984_500, 16_982, 4_975_360)"
   ]
  }
 ],
 "metadata": {
  "kernelspec": {
   "display_name": "Python 3",
   "language": "python",
   "name": "python3"
  },
  "language_info": {
   "codemirror_mode": {
    "name": "ipython",
    "version": 3
   },
   "file_extension": ".py",
   "mimetype": "text/x-python",
   "name": "python",
   "nbconvert_exporter": "python",
   "pygments_lexer": "ipython3",
   "version": "3.11.9"
  }
 },
 "nbformat": 4,
 "nbformat_minor": 2
}
